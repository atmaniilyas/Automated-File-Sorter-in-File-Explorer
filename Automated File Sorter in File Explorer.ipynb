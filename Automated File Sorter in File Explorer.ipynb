{
 "cells": [
  {
   "cell_type": "markdown",
   "id": "b4646809-2803-4da6-8d19-2d1c6eee9512",
   "metadata": {},
   "source": [
    "# Automated File Sorter in File Explorer"
   ]
  },
  {
   "cell_type": "code",
   "execution_count": 18,
   "id": "c808ce47-78e1-43e3-9a28-bdda27789610",
   "metadata": {},
   "outputs": [],
   "source": [
    "import os,shutil"
   ]
  },
  {
   "cell_type": "code",
   "execution_count": 19,
   "id": "542dae28-2f0a-42e8-bacb-908a2fa2463c",
   "metadata": {},
   "outputs": [],
   "source": [
    "#C:\\Users\\Ilyas\\Desktop\\Projects\\Python - Series\\Series\\Automated File Sorter in File Explorer"
   ]
  },
  {
   "cell_type": "code",
   "execution_count": 20,
   "id": "87eba528-2efc-48c6-a67a-bcfcd92ff345",
   "metadata": {},
   "outputs": [],
   "source": [
    "path = r\"C:/Users/Ilyas/Desktop/Projects\\Python - Series/Series/Automated File Sorter in File Explorer/\""
   ]
  },
  {
   "cell_type": "code",
   "execution_count": 25,
   "id": "104020fe-608d-412d-9960-ae67cf3d1112",
   "metadata": {},
   "outputs": [],
   "source": [
    "file_name = os.listdir(path)"
   ]
  },
  {
   "cell_type": "code",
   "execution_count": 24,
   "id": "fa95e0ce-c860-422f-9d94-efefa0d8eb8f",
   "metadata": {},
   "outputs": [
    {
     "name": "stdout",
     "output_type": "stream",
     "text": [
      "C:/Users/Ilyas/Desktop/Projects\\Python - Series/Series/Automated File Sorter in File Explorer/csv files\n",
      "C:/Users/Ilyas/Desktop/Projects\\Python - Series/Series/Automated File Sorter in File Explorer/image files\n"
     ]
    }
   ],
   "source": [
    "folder_names = ['csv files','image files']\n",
    "for loop in range(0,2):\n",
    "    if not os.path.exists(path + folder_names[loop]):\n",
    "        print(path + folder_names[loop])\n",
    "        os.makedirs(path + folder_names[loop])"
   ]
  },
  {
   "cell_type": "code",
   "execution_count": 32,
   "id": "2e8cf0e3-8ba7-4bd1-914c-698328cc5be5",
   "metadata": {},
   "outputs": [],
   "source": [
    "for file in file_name:\n",
    "    if \".csv\" in file and not os.path.exists(path + \"csv files/\" + file):\n",
    "        shutil.move(path + file , path + \"csv files/\" + file)\n",
    "    elif \".jpg\" in file and not os.path.exists(path + \"image files/\" + file):\n",
    "        shutil.move(path + file , path + \"image files/\" + file)"
   ]
  },
  {
   "cell_type": "code",
   "execution_count": null,
   "id": "ce109bf8-15e3-4574-9996-55c46c4c60b5",
   "metadata": {},
   "outputs": [],
   "source": []
  }
 ],
 "metadata": {
  "kernelspec": {
   "display_name": "Python 3 (ipykernel)",
   "language": "python",
   "name": "python3"
  },
  "language_info": {
   "codemirror_mode": {
    "name": "ipython",
    "version": 3
   },
   "file_extension": ".py",
   "mimetype": "text/x-python",
   "name": "python",
   "nbconvert_exporter": "python",
   "pygments_lexer": "ipython3",
   "version": "3.12.7"
  }
 },
 "nbformat": 4,
 "nbformat_minor": 5
}
